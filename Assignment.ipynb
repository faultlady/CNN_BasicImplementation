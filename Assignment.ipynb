{
  "nbformat": 4,
  "nbformat_minor": 0,
  "metadata": {
    "colab": {
      "name": "Assignment.ipynb",
      "provenance": [],
      "collapsed_sections": [],
      "authorship_tag": "ABX9TyNpDU5J/oTc6QaAtafdg5qL",
      "include_colab_link": true
    },
    "kernelspec": {
      "name": "python3",
      "display_name": "Python 3"
    }
  },
  "cells": [
    {
      "cell_type": "markdown",
      "metadata": {
        "id": "view-in-github",
        "colab_type": "text"
      },
      "source": [
        "<a href=\"https://colab.research.google.com/github/faultlady/CNN_BasicImplementation/blob/main/Assignment.ipynb\" target=\"_parent\"><img src=\"https://colab.research.google.com/assets/colab-badge.svg\" alt=\"Open In Colab\"/></a>"
      ]
    },
    {
      "cell_type": "markdown",
      "metadata": {
        "id": "iDNPV2DvlhAv"
      },
      "source": [
        "**Implementation of CNN to classification of car bike among 100 random images using Alexnet**"
      ]
    },
    {
      "cell_type": "code",
      "metadata": {
        "id": "DyCJCCJD-6-c",
        "colab": {
          "base_uri": "https://localhost:8080/",
          "height": 34
        },
        "outputId": "35ca0623-8a6a-4583-a3d2-b881006f5006"
      },
      "source": [
        "from google.colab import drive\n",
        "drive.mount('/content/gdrive', force_remount=True)"
      ],
      "execution_count": null,
      "outputs": [
        {
          "output_type": "stream",
          "text": [
            "Mounted at /content/gdrive\n"
          ],
          "name": "stdout"
        }
      ]
    },
    {
      "cell_type": "code",
      "metadata": {
        "id": "cB_p0g5z_KRy",
        "colab": {
          "base_uri": "https://localhost:8080/",
          "height": 156
        },
        "outputId": "cc30db33-5545-4d8a-9675-cef349110dd1"
      },
      "source": [
        "PATH_OF_DATA= '/content/gdrive/\"My Drive\"/carbike/pred'\n",
        "!ls {PATH_OF_DATA}"
      ],
      "execution_count": null,
      "outputs": [
        {
          "output_type": "stream",
          "text": [
            "bike.35.jpg  bike.43.jpg   car.35.jpg  car.43.jpg   random.21.jpg\n",
            "bike.36.jpg  bike.44.jpg   car.36.jpg  car.44.jpg   random.22.jpg\n",
            "bike.37.jpg  bike.45.jpeg  car.37.jpg  car.45.jpg   random.23.jpg\n",
            "bike.38.jpg  bike.46.jpg   car.38.jpg  car.46.jpg   random.24.jpg\n",
            "bike.39.jpg  bike.47.jpeg  car.39.jpg  car.47.jpg   random.25.jpg\n",
            "bike.40.jpg  bike.48.jpeg  car.40.jpg  car.48.jpg\n",
            "bike.41.jpg  bike.49.jpg   car.41.jpg  car.49.jpg\n",
            "bike.42.jpg  bike.50.jpg   car.42.jpg  car.50.jpeg\n"
          ],
          "name": "stdout"
        }
      ]
    },
    {
      "cell_type": "code",
      "metadata": {
        "id": "RP4Ndf7A_XRT"
      },
      "source": [
        "import pandas as pd\n",
        "import numpy as np\n",
        "import os\n",
        "import tensorflow as tf\n",
        "import cv2\n",
        "from tensorflow import keras\n",
        "from tensorflow.keras.models import Sequential, Model\n",
        "from  matplotlib import pyplot as plt\n",
        "import matplotlib.image as mpimg\n",
        "%matplotlib inline\n",
        "from os import listdir\n",
        "from numpy import asarray\n",
        "from numpy import save\n",
        "from keras.preprocessing.image import load_img\n",
        "from keras.preprocessing.image import img_to_array\n",
        "from matplotlib import pyplot\n",
        "from matplotlib.image import imread\n",
        "import tensorflow as tf\n",
        "from tensorflow import keras\n",
        "from tensorflow.keras import layers\n",
        "from keras.models import Sequential\n",
        "from tensorflow.keras.layers import Conv2D\n",
        "from keras.layers import Dense\n",
        "from keras.layers.convolutional import MaxPooling2D\n",
        "from keras.layers import Flatten\n",
        "from keras.layers import Dense, Dropout, LSTM, BatchNormalization\n",
        "from keras.callbacks import TensorBoard\n",
        "from keras.callbacks import ModelCheckpoint\n",
        "import numpy as np\n",
        "from keras import layers\n",
        "from keras.layers import Input, Dense, Activation,BatchNormalization, Flatten, Conv2D, MaxPooling2D\n",
        "from keras.models import Model\n",
        "from keras.preprocessing import image\n",
        "from keras.preprocessing.image import ImageDataGenerator\n",
        "import keras.backend as K\n",
        "\n",
        "import matplotlib.pyplot as plt\n",
        "from matplotlib.pyplot import imshow"
      ],
      "execution_count": null,
      "outputs": []
    },
    {
      "cell_type": "code",
      "metadata": {
        "id": "BR69i53xtOgN"
      },
      "source": [
        "#bike: class 1\n",
        "#car: class 2\n",
        "#random: class 3"
      ],
      "execution_count": null,
      "outputs": []
    },
    {
      "cell_type": "code",
      "metadata": {
        "id": "yarnERhB_Nmr",
        "colab": {
          "base_uri": "https://localhost:8080/",
          "height": 34
        },
        "outputId": "40bb40dc-a373-4fa4-e5bc-f70c9b13d0ef"
      },
      "source": [
        "path = '/content/gdrive/My Drive/carbike/train'\n",
        "train_datagen = ImageDataGenerator(rescale=1. / 255)\n",
        "train = train_datagen.flow_from_directory(path, target_size=(227,227), class_mode='categorical')"
      ],
      "execution_count": null,
      "outputs": [
        {
          "output_type": "stream",
          "text": [
            "Found 75 images belonging to 3 classes.\n"
          ],
          "name": "stdout"
        }
      ]
    },
    {
      "cell_type": "code",
      "metadata": {
        "id": "3s7JwDAr_4JS",
        "colab": {
          "base_uri": "https://localhost:8080/",
          "height": 86
        },
        "outputId": "90c00d44-6ea9-4233-d57f-74c288601791"
      },
      "source": [
        "print(\"Batch Size for Input Image : \",train[0][0].shape)\n",
        "print(\"Batch Size for Output Image : \",train[0][1].shape)\n",
        "print(\"Image Size of first image : \",train[0][0][0].shape)\n",
        "print(\"Output of first image : \",train[0][1][0].shape)"
      ],
      "execution_count": null,
      "outputs": [
        {
          "output_type": "stream",
          "text": [
            "Batch Size for Input Image :  (32, 227, 227, 3)\n",
            "Batch Size for Output Image :  (32, 3)\n",
            "Image Size of first image :  (227, 227, 3)\n",
            "Output of first image :  (3,)\n"
          ],
          "name": "stdout"
        }
      ]
    },
    {
      "cell_type": "code",
      "metadata": {
        "id": "T2I1Q7OJASeg"
      },
      "source": [
        "def AlexNet(input_shape):\n",
        "    X_input = Input(input_shape)\n",
        "    X = Conv2D(96,(11,11),strides = 4,name=\"conv0\")(X_input)\n",
        "    X = BatchNormalization(axis = 3 , name = \"bn0\")(X)\n",
        "    X = Activation('relu')(X)\n",
        "    X = MaxPooling2D((3,3),strides = 2,name = 'max0')(X)\n",
        "    X = Conv2D(256,(5,5),padding = 'same' , name = 'conv1')(X)\n",
        "    X = BatchNormalization(axis = 3 ,name='bn1')(X)\n",
        "    X = Activation('relu')(X)\n",
        "    X = MaxPooling2D((3,3),strides = 2,name = 'max1')(X)\n",
        "    X = Conv2D(384, (3,3) , padding = 'same' , name='conv2')(X)\n",
        "    X = BatchNormalization(axis = 3, name = 'bn2')(X)\n",
        "    X = Activation('relu')(X)\n",
        "    X = Conv2D(384, (3,3) , padding = 'same' , name='conv3')(X)\n",
        "    X = BatchNormalization(axis = 3, name = 'bn3')(X)\n",
        "    X = Activation('relu')(X)\n",
        "    X = Conv2D(256, (3,3) , padding = 'same' , name='conv4')(X)\n",
        "    X = BatchNormalization(axis = 3, name = 'bn4')(X)\n",
        "    X = Activation('relu')(X)\n",
        "    X = MaxPooling2D((3,3),strides = 2,name = 'max2')(X)\n",
        "    X = Flatten()(X)\n",
        "    X = Dense(4096, activation = 'relu', name = \"fc0\")(X)\n",
        "    X = Dense(4096, activation = 'relu', name = 'fc1')(X) \n",
        "    X = Dense(3,activation='softmax',name = 'fc2')(X)\n",
        "    model = Model(inputs = X_input, outputs = X, name='AlexNet')\n",
        "    return model"
      ],
      "execution_count": null,
      "outputs": []
    },
    {
      "cell_type": "code",
      "metadata": {
        "id": "zYIunA93BNe2"
      },
      "source": [
        "alex = AlexNet(train[0][0].shape[1:])"
      ],
      "execution_count": null,
      "outputs": []
    },
    {
      "cell_type": "code",
      "metadata": {
        "id": "FGprZyjdAUCO",
        "colab": {
          "base_uri": "https://localhost:8080/",
          "height": 955
        },
        "outputId": "1407d25f-ef52-45b1-c7c3-0f2250674304"
      },
      "source": [
        "alex.summary()"
      ],
      "execution_count": null,
      "outputs": [
        {
          "output_type": "stream",
          "text": [
            "Model: \"AlexNet\"\n",
            "_________________________________________________________________\n",
            "Layer (type)                 Output Shape              Param #   \n",
            "=================================================================\n",
            "input_1 (InputLayer)         [(None, 227, 227, 3)]     0         \n",
            "_________________________________________________________________\n",
            "conv0 (Conv2D)               (None, 55, 55, 96)        34944     \n",
            "_________________________________________________________________\n",
            "bn0 (BatchNormalization)     (None, 55, 55, 96)        384       \n",
            "_________________________________________________________________\n",
            "activation (Activation)      (None, 55, 55, 96)        0         \n",
            "_________________________________________________________________\n",
            "max0 (MaxPooling2D)          (None, 27, 27, 96)        0         \n",
            "_________________________________________________________________\n",
            "conv1 (Conv2D)               (None, 27, 27, 256)       614656    \n",
            "_________________________________________________________________\n",
            "bn1 (BatchNormalization)     (None, 27, 27, 256)       1024      \n",
            "_________________________________________________________________\n",
            "activation_1 (Activation)    (None, 27, 27, 256)       0         \n",
            "_________________________________________________________________\n",
            "max1 (MaxPooling2D)          (None, 13, 13, 256)       0         \n",
            "_________________________________________________________________\n",
            "conv2 (Conv2D)               (None, 13, 13, 384)       885120    \n",
            "_________________________________________________________________\n",
            "bn2 (BatchNormalization)     (None, 13, 13, 384)       1536      \n",
            "_________________________________________________________________\n",
            "activation_2 (Activation)    (None, 13, 13, 384)       0         \n",
            "_________________________________________________________________\n",
            "conv3 (Conv2D)               (None, 13, 13, 384)       1327488   \n",
            "_________________________________________________________________\n",
            "bn3 (BatchNormalization)     (None, 13, 13, 384)       1536      \n",
            "_________________________________________________________________\n",
            "activation_3 (Activation)    (None, 13, 13, 384)       0         \n",
            "_________________________________________________________________\n",
            "conv4 (Conv2D)               (None, 13, 13, 256)       884992    \n",
            "_________________________________________________________________\n",
            "bn4 (BatchNormalization)     (None, 13, 13, 256)       1024      \n",
            "_________________________________________________________________\n",
            "activation_4 (Activation)    (None, 13, 13, 256)       0         \n",
            "_________________________________________________________________\n",
            "max2 (MaxPooling2D)          (None, 6, 6, 256)         0         \n",
            "_________________________________________________________________\n",
            "flatten (Flatten)            (None, 9216)              0         \n",
            "_________________________________________________________________\n",
            "fc0 (Dense)                  (None, 4096)              37752832  \n",
            "_________________________________________________________________\n",
            "fc1 (Dense)                  (None, 4096)              16781312  \n",
            "_________________________________________________________________\n",
            "fc2 (Dense)                  (None, 3)                 12291     \n",
            "=================================================================\n",
            "Total params: 58,299,139\n",
            "Trainable params: 58,296,387\n",
            "Non-trainable params: 2,752\n",
            "_________________________________________________________________\n"
          ],
          "name": "stdout"
        }
      ]
    },
    {
      "cell_type": "code",
      "metadata": {
        "id": "_GykL4QXBat6"
      },
      "source": [
        "alex.compile(optimizer = 'adam' , loss = 'categorical_crossentropy' , metrics=['accuracy'])"
      ],
      "execution_count": null,
      "outputs": []
    },
    {
      "cell_type": "code",
      "metadata": {
        "id": "8leDbCsDCoaa",
        "colab": {
          "base_uri": "https://localhost:8080/",
          "height": 34
        },
        "outputId": "145d954f-16b7-44fc-f27b-6ac471b6296a"
      },
      "source": [
        "train"
      ],
      "execution_count": null,
      "outputs": [
        {
          "output_type": "execute_result",
          "data": {
            "text/plain": [
              "<tensorflow.python.keras.preprocessing.image.DirectoryIterator at 0x7f5860c344e0>"
            ]
          },
          "metadata": {
            "tags": []
          },
          "execution_count": 30
        }
      ]
    },
    {
      "cell_type": "code",
      "metadata": {
        "id": "OX3Jr8-_Beo6",
        "colab": {
          "base_uri": "https://localhost:8080/",
          "height": 1000
        },
        "outputId": "c9a93302-9ab4-4453-a706-e4f4f97dde42"
      },
      "source": [
        "alex.fit_generator(train,epochs=100)"
      ],
      "execution_count": null,
      "outputs": [
        {
          "output_type": "stream",
          "text": [
            "Epoch 1/100\n",
            "3/3 [==============================] - 14s 5s/step - loss: 70.5222 - accuracy: 0.4000\n",
            "Epoch 2/100\n",
            "3/3 [==============================] - 14s 5s/step - loss: 8.0664 - accuracy: 0.4667\n",
            "Epoch 3/100\n",
            "3/3 [==============================] - 11s 4s/step - loss: 2.8737 - accuracy: 0.4267\n",
            "Epoch 4/100\n",
            "3/3 [==============================] - 8s 3s/step - loss: 1.6239 - accuracy: 0.5333\n",
            "Epoch 5/100\n",
            "3/3 [==============================] - 10s 3s/step - loss: 1.0524 - accuracy: 0.5867\n",
            "Epoch 6/100\n",
            "3/3 [==============================] - 9s 3s/step - loss: 0.8124 - accuracy: 0.7067\n",
            "Epoch 7/100\n",
            "3/3 [==============================] - 8s 3s/step - loss: 0.7766 - accuracy: 0.6667\n",
            "Epoch 8/100\n",
            "3/3 [==============================] - 10s 3s/step - loss: 0.6067 - accuracy: 0.6933\n",
            "Epoch 9/100\n",
            "3/3 [==============================] - 8s 3s/step - loss: 0.5906 - accuracy: 0.7467\n",
            "Epoch 10/100\n",
            "3/3 [==============================] - 12s 4s/step - loss: 0.5010 - accuracy: 0.7600\n",
            "Epoch 11/100\n",
            "3/3 [==============================] - 10s 3s/step - loss: 0.5052 - accuracy: 0.7867\n",
            "Epoch 12/100\n",
            "3/3 [==============================] - 13s 4s/step - loss: 0.5077 - accuracy: 0.7600\n",
            "Epoch 13/100\n",
            "3/3 [==============================] - 7s 2s/step - loss: 0.5188 - accuracy: 0.7200\n",
            "Epoch 14/100\n",
            "3/3 [==============================] - 14s 5s/step - loss: 0.4088 - accuracy: 0.8133\n",
            "Epoch 15/100\n",
            "3/3 [==============================] - 7s 2s/step - loss: 0.3388 - accuracy: 0.8800\n",
            "Epoch 16/100\n",
            "3/3 [==============================] - 9s 3s/step - loss: 0.3315 - accuracy: 0.8533\n",
            "Epoch 17/100\n",
            "3/3 [==============================] - 7s 2s/step - loss: 0.2847 - accuracy: 0.8800\n",
            "Epoch 18/100\n",
            "3/3 [==============================] - 9s 3s/step - loss: 0.2338 - accuracy: 0.8800\n",
            "Epoch 19/100\n",
            "3/3 [==============================] - 12s 4s/step - loss: 0.2289 - accuracy: 0.8933\n",
            "Epoch 20/100\n",
            "3/3 [==============================] - 14s 5s/step - loss: 0.2051 - accuracy: 0.9200\n",
            "Epoch 21/100\n",
            "3/3 [==============================] - 7s 2s/step - loss: 0.1820 - accuracy: 0.9067\n",
            "Epoch 22/100\n",
            "3/3 [==============================] - 13s 4s/step - loss: 0.1615 - accuracy: 0.9467\n",
            "Epoch 23/100\n",
            "3/3 [==============================] - 14s 5s/step - loss: 0.1787 - accuracy: 0.9200\n",
            "Epoch 24/100\n",
            "3/3 [==============================] - 14s 5s/step - loss: 0.2584 - accuracy: 0.9333\n",
            "Epoch 25/100\n",
            "3/3 [==============================] - 10s 3s/step - loss: 0.1489 - accuracy: 0.9467\n",
            "Epoch 26/100\n",
            "3/3 [==============================] - 9s 3s/step - loss: 0.0814 - accuracy: 0.9867\n",
            "Epoch 27/100\n",
            "3/3 [==============================] - 9s 3s/step - loss: 0.1386 - accuracy: 0.9733\n",
            "Epoch 28/100\n",
            "3/3 [==============================] - 13s 4s/step - loss: 0.0744 - accuracy: 0.9867\n",
            "Epoch 29/100\n",
            "3/3 [==============================] - 14s 5s/step - loss: 0.1425 - accuracy: 0.9600\n",
            "Epoch 30/100\n",
            "3/3 [==============================] - 14s 5s/step - loss: 0.1305 - accuracy: 0.9467\n",
            "Epoch 31/100\n",
            "3/3 [==============================] - 8s 3s/step - loss: 0.1807 - accuracy: 0.9600\n",
            "Epoch 32/100\n",
            "3/3 [==============================] - 10s 3s/step - loss: 0.0491 - accuracy: 1.0000\n",
            "Epoch 33/100\n",
            "3/3 [==============================] - 8s 3s/step - loss: 0.7964 - accuracy: 0.9200\n",
            "Epoch 34/100\n",
            "3/3 [==============================] - 7s 2s/step - loss: 1.2836 - accuracy: 0.7200\n",
            "Epoch 35/100\n",
            "3/3 [==============================] - 14s 5s/step - loss: 0.2752 - accuracy: 0.9333\n",
            "Epoch 36/100\n",
            "3/3 [==============================] - 7s 2s/step - loss: 0.2233 - accuracy: 0.8933\n",
            "Epoch 37/100\n",
            "3/3 [==============================] - 11s 4s/step - loss: 0.3063 - accuracy: 0.8533\n",
            "Epoch 38/100\n",
            "3/3 [==============================] - 9s 3s/step - loss: 0.2390 - accuracy: 0.9067\n",
            "Epoch 39/100\n",
            "3/3 [==============================] - 8s 3s/step - loss: 0.1657 - accuracy: 0.9333\n",
            "Epoch 40/100\n",
            "3/3 [==============================] - 13s 4s/step - loss: 0.0649 - accuracy: 0.9733\n",
            "Epoch 41/100\n",
            "3/3 [==============================] - 8s 3s/step - loss: 0.0260 - accuracy: 1.0000\n",
            "Epoch 42/100\n",
            "3/3 [==============================] - 8s 3s/step - loss: 0.0051 - accuracy: 1.0000\n",
            "Epoch 43/100\n",
            "3/3 [==============================] - 8s 3s/step - loss: 0.0231 - accuracy: 0.9867\n",
            "Epoch 44/100\n",
            "3/3 [==============================] - 8s 3s/step - loss: 5.2819e-04 - accuracy: 1.0000\n",
            "Epoch 45/100\n",
            "3/3 [==============================] - 10s 3s/step - loss: 0.0301 - accuracy: 0.9733\n",
            "Epoch 46/100\n",
            "3/3 [==============================] - 13s 4s/step - loss: 0.7410 - accuracy: 0.8667\n",
            "Epoch 47/100\n",
            "3/3 [==============================] - 12s 4s/step - loss: 0.2062 - accuracy: 0.9467\n",
            "Epoch 48/100\n",
            "3/3 [==============================] - 9s 3s/step - loss: 0.2272 - accuracy: 0.9333\n",
            "Epoch 49/100\n",
            "3/3 [==============================] - 8s 3s/step - loss: 0.7094 - accuracy: 0.8267\n",
            "Epoch 50/100\n",
            "3/3 [==============================] - 13s 4s/step - loss: 0.8254 - accuracy: 0.8400\n",
            "Epoch 51/100\n",
            "3/3 [==============================] - 10s 3s/step - loss: 0.0935 - accuracy: 0.9467\n",
            "Epoch 52/100\n",
            "3/3 [==============================] - 8s 3s/step - loss: 0.1264 - accuracy: 0.9467\n",
            "Epoch 53/100\n",
            "3/3 [==============================] - 7s 2s/step - loss: 0.1569 - accuracy: 0.9333\n",
            "Epoch 54/100\n",
            "3/3 [==============================] - 8s 3s/step - loss: 0.0785 - accuracy: 0.9733\n",
            "Epoch 55/100\n",
            "3/3 [==============================] - 8s 3s/step - loss: 0.1072 - accuracy: 0.9600\n",
            "Epoch 56/100\n",
            "3/3 [==============================] - 14s 5s/step - loss: 0.0101 - accuracy: 1.0000\n",
            "Epoch 57/100\n",
            "3/3 [==============================] - 8s 3s/step - loss: 0.0838 - accuracy: 0.9467\n",
            "Epoch 58/100\n",
            "3/3 [==============================] - 13s 4s/step - loss: 0.0044 - accuracy: 1.0000\n",
            "Epoch 59/100\n",
            "3/3 [==============================] - 9s 3s/step - loss: 0.0652 - accuracy: 0.9733\n",
            "Epoch 60/100\n",
            "3/3 [==============================] - 10s 3s/step - loss: 0.0164 - accuracy: 0.9867\n",
            "Epoch 61/100\n",
            "3/3 [==============================] - 14s 5s/step - loss: 0.0034 - accuracy: 1.0000\n",
            "Epoch 62/100\n",
            "3/3 [==============================] - 11s 4s/step - loss: 0.0311 - accuracy: 0.9867\n",
            "Epoch 63/100\n",
            "3/3 [==============================] - 14s 5s/step - loss: 2.5656e-04 - accuracy: 1.0000\n",
            "Epoch 64/100\n",
            "3/3 [==============================] - 10s 3s/step - loss: 1.7408e-05 - accuracy: 1.0000\n",
            "Epoch 65/100\n",
            "3/3 [==============================] - 14s 5s/step - loss: 3.3931e-05 - accuracy: 1.0000\n",
            "Epoch 66/100\n",
            "3/3 [==============================] - 8s 3s/step - loss: 1.1213e-04 - accuracy: 1.0000\n",
            "Epoch 67/100\n",
            "3/3 [==============================] - 8s 3s/step - loss: 0.0127 - accuracy: 0.9867\n",
            "Epoch 68/100\n",
            "3/3 [==============================] - 8s 3s/step - loss: 1.6236e-04 - accuracy: 1.0000\n",
            "Epoch 69/100\n",
            "3/3 [==============================] - 14s 5s/step - loss: 2.4294e-05 - accuracy: 1.0000\n",
            "Epoch 70/100\n",
            "3/3 [==============================] - 13s 4s/step - loss: 2.2454e-05 - accuracy: 1.0000\n",
            "Epoch 71/100\n",
            "3/3 [==============================] - 11s 4s/step - loss: 5.0287e-04 - accuracy: 1.0000\n",
            "Epoch 72/100\n",
            "3/3 [==============================] - 8s 3s/step - loss: 7.9147e-04 - accuracy: 1.0000\n",
            "Epoch 73/100\n",
            "3/3 [==============================] - 8s 3s/step - loss: 0.0070 - accuracy: 1.0000\n",
            "Epoch 74/100\n",
            "3/3 [==============================] - 8s 3s/step - loss: 3.1561e-04 - accuracy: 1.0000\n",
            "Epoch 75/100\n",
            "3/3 [==============================] - 14s 5s/step - loss: 0.0050 - accuracy: 1.0000\n",
            "Epoch 76/100\n",
            "3/3 [==============================] - 14s 5s/step - loss: 8.8143e-05 - accuracy: 1.0000\n",
            "Epoch 77/100\n",
            "3/3 [==============================] - 10s 3s/step - loss: 2.9477e-05 - accuracy: 1.0000\n",
            "Epoch 78/100\n",
            "3/3 [==============================] - 13s 4s/step - loss: 2.7925e-05 - accuracy: 1.0000\n",
            "Epoch 79/100\n",
            "3/3 [==============================] - 14s 5s/step - loss: 1.2993e-04 - accuracy: 1.0000\n",
            "Epoch 80/100\n",
            "3/3 [==============================] - 8s 3s/step - loss: 1.9312e-04 - accuracy: 1.0000\n",
            "Epoch 81/100\n",
            "3/3 [==============================] - 11s 4s/step - loss: 4.2529e-04 - accuracy: 1.0000\n",
            "Epoch 82/100\n",
            "3/3 [==============================] - 9s 3s/step - loss: 3.7103e-05 - accuracy: 1.0000\n",
            "Epoch 83/100\n",
            "3/3 [==============================] - 8s 3s/step - loss: 1.3090e-05 - accuracy: 1.0000\n",
            "Epoch 84/100\n",
            "3/3 [==============================] - 14s 5s/step - loss: 6.2139e-06 - accuracy: 1.0000\n",
            "Epoch 85/100\n",
            "3/3 [==============================] - 14s 5s/step - loss: 1.4231e-05 - accuracy: 1.0000\n",
            "Epoch 86/100\n",
            "3/3 [==============================] - 14s 5s/step - loss: 0.2295 - accuracy: 0.9333\n",
            "Epoch 87/100\n",
            "3/3 [==============================] - 11s 4s/step - loss: 0.4949 - accuracy: 0.9467\n",
            "Epoch 88/100\n",
            "3/3 [==============================] - 9s 3s/step - loss: 0.5322 - accuracy: 0.9200\n",
            "Epoch 89/100\n",
            "3/3 [==============================] - 14s 5s/step - loss: 0.3125 - accuracy: 0.9333\n",
            "Epoch 90/100\n",
            "3/3 [==============================] - 14s 5s/step - loss: 0.0896 - accuracy: 0.9600\n",
            "Epoch 91/100\n",
            "3/3 [==============================] - 8s 3s/step - loss: 0.1397 - accuracy: 0.9733\n",
            "Epoch 92/100\n",
            "3/3 [==============================] - 8s 3s/step - loss: 0.2224 - accuracy: 0.9600\n",
            "Epoch 93/100\n",
            "3/3 [==============================] - 9s 3s/step - loss: 0.0011 - accuracy: 1.0000\n",
            "Epoch 94/100\n",
            "3/3 [==============================] - 9s 3s/step - loss: 0.0660 - accuracy: 0.9733\n",
            "Epoch 95/100\n",
            "3/3 [==============================] - 8s 3s/step - loss: 0.0932 - accuracy: 0.9733\n",
            "Epoch 96/100\n",
            "3/3 [==============================] - 9s 3s/step - loss: 0.0149 - accuracy: 1.0000\n",
            "Epoch 97/100\n",
            "3/3 [==============================] - 13s 4s/step - loss: 0.0760 - accuracy: 0.9733\n",
            "Epoch 98/100\n",
            "3/3 [==============================] - 9s 3s/step - loss: 0.3238 - accuracy: 0.9733\n",
            "Epoch 99/100\n",
            "3/3 [==============================] - 14s 5s/step - loss: 0.0084 - accuracy: 1.0000\n",
            "Epoch 100/100\n",
            "3/3 [==============================] - 8s 3s/step - loss: 0.0430 - accuracy: 0.9867\n"
          ],
          "name": "stdout"
        },
        {
          "output_type": "execute_result",
          "data": {
            "text/plain": [
              "<tensorflow.python.keras.callbacks.History at 0x7fbe3c25b2b0>"
            ]
          },
          "metadata": {
            "tags": []
          },
          "execution_count": 72
        }
      ]
    },
    {
      "cell_type": "code",
      "metadata": {
        "id": "ziHkg-1FGWoo",
        "colab": {
          "base_uri": "https://localhost:8080/",
          "height": 34
        },
        "outputId": "37ede6da-ccdd-42f9-e225-173722b14142"
      },
      "source": [
        "path_test = '/content/gdrive/My Drive/carbike/test'\n",
        "test_datagen = ImageDataGenerator(rescale=1. / 255)\n",
        "test = test_datagen.flow_from_directory(path_test, target_size=(227,227), class_mode='categorical')"
      ],
      "execution_count": null,
      "outputs": [
        {
          "output_type": "stream",
          "text": [
            "Found 15 images belonging to 3 classes.\n"
          ],
          "name": "stdout"
        }
      ]
    },
    {
      "cell_type": "markdown",
      "metadata": {
        "id": "uspcb9a8lfmc"
      },
      "source": [
        ""
      ]
    },
    {
      "cell_type": "code",
      "metadata": {
        "id": "oDh1tykClRkO",
        "colab": {
          "base_uri": "https://localhost:8080/",
          "height": 52
        },
        "outputId": "c2ef9d3e-c5ae-4ef1-b5fe-a24e8f36078d"
      },
      "source": [
        "preds = alex.evaluate_generator(test)\n",
        "print (\"Loss = \" + str(preds[0]))\n",
        "print (\"Test Accuracy = \" + str(preds[1]))"
      ],
      "execution_count": null,
      "outputs": [
        {
          "output_type": "stream",
          "text": [
            "Loss = 3.477428913116455\n",
            "Test Accuracy = 0.800000011920929\n"
          ],
          "name": "stdout"
        }
      ]
    },
    {
      "cell_type": "markdown",
      "metadata": {
        "id": "w5r7Pb2QlSy-"
      },
      "source": [
        "**We get 80% accuracy in classifying the test data **"
      ]
    },
    {
      "cell_type": "code",
      "metadata": {
        "id": "byfNUsVAocJT",
        "colab": {
          "base_uri": "https://localhost:8080/",
          "height": 34
        },
        "outputId": "ecde857f-867d-4ec9-b362-7fdbd373a85c"
      },
      "source": [
        "path_test ='/content/gdrive/My Drive/carbike/pred/'\n",
        "predict_datagen = ImageDataGenerator(rescale=1. / 255)\n",
        "predict = predict_datagen.flow_from_directory(path_test, target_size=(227,227), batch_size = 1,class_mode='categorical')"
      ],
      "execution_count": null,
      "outputs": [
        {
          "output_type": "stream",
          "text": [
            "Found 38 images belonging to 1 classes.\n"
          ],
          "name": "stdout"
        }
      ]
    },
    {
      "cell_type": "code",
      "metadata": {
        "id": "wpBThuvqoqBn",
        "colab": {
          "base_uri": "https://localhost:8080/",
          "height": 89
        },
        "outputId": "ade23b24-3ea8-496b-fce8-79091bf79327"
      },
      "source": [
        "predictions = alex.predict_generator(predict)"
      ],
      "execution_count": null,
      "outputs": [
        {
          "output_type": "stream",
          "text": [
            "WARNING:tensorflow:From <ipython-input-90-fab3314c5a95>:1: Model.predict_generator (from tensorflow.python.keras.engine.training) is deprecated and will be removed in a future version.\n",
            "Instructions for updating:\n",
            "Please use Model.predict, which supports generators.\n"
          ],
          "name": "stdout"
        }
      ]
    },
    {
      "cell_type": "code",
      "metadata": {
        "id": "SGhY7lvRsJ3f",
        "colab": {
          "base_uri": "https://localhost:8080/",
          "height": 34
        },
        "outputId": "a06c4143-ae8d-4166-ab0b-eab40667fa8a"
      },
      "source": [
        "print(predictions[1])"
      ],
      "execution_count": null,
      "outputs": [
        {
          "output_type": "stream",
          "text": [
            "[8.6814623e-07 7.6548213e-01 2.3451695e-01]\n"
          ],
          "name": "stdout"
        }
      ]
    },
    {
      "cell_type": "code",
      "metadata": {
        "id": "mVr11AN0sxWD",
        "colab": {
          "base_uri": "https://localhost:8080/",
          "height": 286
        },
        "outputId": "ecde5ab8-453c-4081-c2f0-a21fdeea14d4"
      },
      "source": [
        "imshow(predict[1][0][0])"
      ],
      "execution_count": null,
      "outputs": [
        {
          "output_type": "execute_result",
          "data": {
            "text/plain": [
              "<matplotlib.image.AxesImage at 0x7fbe53cd6c50>"
            ]
          },
          "metadata": {
            "tags": []
          },
          "execution_count": 108
        },
        {
          "output_type": "display_data",
          "data": {
            "image/png": "[encoded data removed]",
            "text/plain": [
              "<Figure size 432x288 with 1 Axes>"
            ]
          },
          "metadata": {
            "tags": [],
            "needs_background": "light"
          }
        }
      ]
    }
  ]
}